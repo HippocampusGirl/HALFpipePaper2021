{
 "cells": [
  {
   "cell_type": "code",
   "execution_count": null,
   "id": "bc5e6dad-c055-4f61-ae1d-99d7e7119a97",
   "metadata": {},
   "outputs": [],
   "source": []
  },
  {
   "cell_type": "code",
   "execution_count": 98,
   "id": "7f7b3606-0457-42d4-8b03-cbaa817242d1",
   "metadata": {},
   "outputs": [],
   "source": [
    "working_directory_pattern = re.compile(r\"Loading spec file (?P<working_directory>.+?)/spec.json\")"
   ]
  },
  {
   "cell_type": "code",
   "execution_count": 99,
   "id": "389f8dd9-123a-4761-aa7c-6aeaee3237d6",
   "metadata": {},
   "outputs": [],
   "source": [
    "for e in entry_data:\n",
    "    m = working_directory_pattern.fullmatch(e.message)\n",
    "    \n",
    "    if m is not None:\n",
    "        working_directory = m.group(\"working_directory\")\n",
    "        break"
   ]
  },
  {
   "cell_type": "code",
   "execution_count": 107,
   "id": "9c788aa1-ad51-46c8-88dd-dd5195fb4f87",
   "metadata": {},
   "outputs": [],
   "source": [
    "start_pattern = re.compile(r\"\\[Node\\] Setting-up \\\"(?P<node_name>.+?)\\\" in \\\"(?P<node_directory>.+?)\\\".\")\n",
    "mapnode_directory_pattern = re.compile(working_directory + r\"/(?P<node_path>.+?)(:?/mapflow/(?P<sub_node_name>.+?))?\")\n",
    "end_pattern = re.compile(r\"\\[Job \\d+\\] Completed \\((?P<node_name>.+?)\\).\")"
   ]
  },
  {
   "cell_type": "code",
   "execution_count": 115,
   "id": "9992c254-b662-4db4-907b-9d91cc28291d",
   "metadata": {},
   "outputs": [],
   "source": [
    "def convert_node_path(node_path: str) -> str:\n",
    "    tokens = node_path.split(\"/\")\n",
    "    \n",
    "    def filter_token(token: str) -> bool:\n",
    "        if token.startswith(\"_\"):\n",
    "            return False\n",
    "        if token == \"mapflow\":\n",
    "            return False\n",
    "        return True\n",
    "        \n",
    "    return \".\".join(filter(filter_token, tokens))"
   ]
  },
  {
   "cell_type": "code",
   "execution_count": 175,
   "id": "2994a32a-b77e-48cb-a13c-faf5db574449",
   "metadata": {},
   "outputs": [],
   "source": [
    "intervals = dict()\n",
    "\n",
    "for e in entry_data:\n",
    "    m = start_pattern.fullmatch(e.message)\n",
    "    \n",
    "    if m is not None:\n",
    "        node_name = m.group(\"node_name\")\n",
    "        \n",
    "        if not node_name.startswith(\"nipype\"):  # map node subnode\n",
    "            node_directory = m.group(\"node_directory\")\n",
    "            m = mapnode_directory_pattern.fullmatch(node_directory)\n",
    "            \n",
    "            assert m is not None\n",
    "            \n",
    "            node_name = convert_node_path(m.group(\"node_path\"))\n",
    "            \n",
    "            if node_name in intervals:  # only update\n",
    "                if intervals[node_name].start > e.time:\n",
    "                    intervals[node_name].start = e.time\n",
    "                continue\n",
    "        else:\n",
    "            assert node_name not in intervals\n",
    "        \n",
    "        intervals[node_name] = Interval(\n",
    "            start=e.time,\n",
    "            end=None,\n",
    "        )\n",
    "        continue\n",
    "        \n",
    "    m = end_pattern.fullmatch(e.message)\n",
    "    \n",
    "    if m is not None:\n",
    "        node_name = m.group(\"node_name\")\n",
    "        \n",
    "        if not node_name.startswith(\"nipype\"):\n",
    "            continue  # map node subnode\n",
    "        \n",
    "        intervals[node_name].end = e.time\n",
    "        continue"
   ]
  },
  {
   "cell_type": "code",
   "execution_count": 142,
   "id": "41d08ff0-c9a7-42f6-ba38-565aee0ecdbb",
   "metadata": {},
   "outputs": [
    {
     "name": "stdout",
     "output_type": "stream",
     "text": [
      "4:13:22.817900\n"
     ]
    }
   ],
   "source": [
    "print(sum(\n",
    "    [\n",
    "        interval.end - interval.start\n",
    "        for key, interval in intervals.items()\n",
    "        if key.startswith(\"nipype.fmriprep_wf\")\n",
    "    ],\n",
    "    timedelta()\n",
    "))"
   ]
  },
  {
   "cell_type": "code",
   "execution_count": 143,
   "id": "e76f91cf-5bf2-44e1-b39f-cddf4ae1087c",
   "metadata": {},
   "outputs": [
    {
     "name": "stdout",
     "output_type": "stream",
     "text": [
      "8:46:40.093200\n"
     ]
    }
   ],
   "source": [
    "print(sum(\n",
    "    [\n",
    "        interval.end - interval.start\n",
    "        for key, interval in intervals.items()\n",
    "        if key.startswith(\"nipype.settings_wf\")\n",
    "    ],\n",
    "    timedelta()\n",
    "))"
   ]
  },
  {
   "cell_type": "code",
   "execution_count": 176,
   "id": "943b57ec-4217-45db-8c46-3ed410c8b009",
   "metadata": {},
   "outputs": [],
   "source": [
    "grouped_intervals = defaultdict(Interval)\n",
    "\n",
    "for key, interval in intervals.items():\n",
    "    if not key.startswith(\"nipype.settings_wf\"):\n",
    "        continue\n",
    "\n",
    "    tokens = key.split(\".\")\n",
    "\n",
    "    step = tokens[4]\n",
    "\n",
    "    grouped_intervals[step].update(interval)"
   ]
  },
  {
   "cell_type": "code",
   "execution_count": 177,
   "id": "ad7a3462-43c2-4b96-9deb-710a25054fea",
   "metadata": {},
   "outputs": [
    {
     "name": "stdout",
     "output_type": "stream",
     "text": [
      "alt_bold_std_trans_wf 1:08:33.973000\n",
      "gaussian_bandpass_filter_wf_jhpg 1:28:31.003900\n",
      "gaussian_bandpass_filter_wf_zwiu 1:37:47.992400\n",
      "fmriprep_adapter_wf 0:19:51.970900\n",
      "ica_aroma_components_wf 0:45:51.988800\n",
      "smoothing_6000_wf_2454 0:36:03.924100\n",
      "grand_mean_scaling_10000_wf_tfek 0:17:34.963000\n",
      "ica_aroma_regression_wf_tjof 0:26:36.987000\n",
      "setting_adapter_wf_of3z 0:16:31.954500\n",
      "confounds_select_hgui_wf_jrmg 0:16:26.943400\n",
      "setting_adapter_wf_xikp 0:19:52.005100\n"
     ]
    }
   ],
   "source": [
    "for key, interval in grouped_intervals.items():\n",
    "    print(key, interval.duration)"
   ]
  },
  {
   "cell_type": "code",
   "execution_count": 188,
   "id": "892bb8a9-bfe7-4be3-aa99-6e8f95cec72d",
   "metadata": {},
   "outputs": [
    {
     "name": "stdout",
     "output_type": "stream",
     "text": [
      "1:35:37.027400\n"
     ]
    }
   ],
   "source": [
    "var = [\"alt_bold_std_trans_wf\", \"ica_aroma_components_wf\", \"grand_mean_scaling_10000_wf_tfek\", \"smoothing_6000_wf_2454\", \"gaussian_bandpass_filter_wf_jhpg\"]\n",
    "\n",
    "interval = Interval()\n",
    "\n",
    "for v in var:\n",
    "    interval.update(grouped_intervals[v])\n",
    "\n",
    "print(interval.duration)"
   ]
  },
  {
   "cell_type": "code",
   "execution_count": null,
   "id": "f2a9e255-ba7a-44e2-8c12-1b1ef67c415b",
   "metadata": {},
   "outputs": [],
   "source": [
    "var = [\"alt_bold_std_trans_wf\", \"ica_aroma_components_wf\", \"grand_mean_scaling_10000_wf_tfek\", \"smoothing_6000_wf_2454\", \"gaussian_bandpass_filter_wf_jhpg\"]\n",
    "\n",
    "interval = Interval()\n",
    "\n",
    "for v in var:\n",
    "    interval.update(grouped_intervals[v])\n",
    "\n",
    "print(interval.duration)"
   ]
  },
  {
   "cell_type": "code",
   "execution_count": 139,
   "id": "aca631a7-d94f-4d57-8f44-aedf30b30a7d",
   "metadata": {},
   "outputs": [],
   "source": [
    "durations = defaultdict(timedelta)\n",
    "\n",
    "for key, interval in intervals.items():\n",
    "    if not key.startswith(\"nipype.features_wf\"):\n",
    "        continue\n",
    "        \n",
    "    tokens = key.split(\".\")\n",
    "    \n",
    "    step = tokens[4]\n",
    "    \n",
    "    durations[step] += interval.end - interval.start"
   ]
  },
  {
   "cell_type": "code",
   "execution_count": 145,
   "id": "f6dbd26b-71a3-4f9d-bab9-665ff78395e5",
   "metadata": {},
   "outputs": [
    {
     "data": {
      "text/plain": [
       "defaultdict(datetime.timedelta,\n",
       "            {'alt_bold_std_trans_wf': datetime.timedelta(seconds=3282, microseconds=77300),\n",
       "             'gaussian_bandpass_filter_wf_jhpg': datetime.timedelta(seconds=1367, microseconds=608600),\n",
       "             'gaussian_bandpass_filter_wf_zwiu': datetime.timedelta(seconds=1146, microseconds=500200),\n",
       "             'fmriprep_adapter_wf': datetime.timedelta(seconds=250, microseconds=772000),\n",
       "             'ica_aroma_components_wf': datetime.timedelta(seconds=15194, microseconds=943600),\n",
       "             'smoothing_6000_wf_2454': datetime.timedelta(seconds=9467, microseconds=88500),\n",
       "             'grand_mean_scaling_10000_wf_tfek': datetime.timedelta(seconds=331, microseconds=400),\n",
       "             'ica_aroma_regression_wf_tjof': datetime.timedelta(seconds=451, microseconds=924200),\n",
       "             'setting_adapter_wf_of3z': datetime.timedelta(seconds=51, microseconds=407200),\n",
       "             'confounds_select_hgui_wf_jrmg': datetime.timedelta(seconds=8, microseconds=18600),\n",
       "             'setting_adapter_wf_xikp': datetime.timedelta(seconds=48, microseconds=752600)})"
      ]
     },
     "execution_count": 145,
     "metadata": {},
     "output_type": "execute_result"
    }
   ],
   "source": [
    "durations"
   ]
  }
 ],
 "metadata": {
  "kernelspec": {
   "display_name": "Python 3 (ipykernel)",
   "language": "python",
   "name": "python3"
  },
  "language_info": {
   "codemirror_mode": {
    "name": "ipython",
    "version": 3
   },
   "file_extension": ".py",
   "mimetype": "text/x-python",
   "name": "python",
   "nbconvert_exporter": "python",
   "pygments_lexer": "ipython3",
   "version": "3.10.1"
  }
 },
 "nbformat": 4,
 "nbformat_minor": 5
}
