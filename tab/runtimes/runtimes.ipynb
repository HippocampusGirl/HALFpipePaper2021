{
 "cells": [
  {
   "cell_type": "code",
   "execution_count": 203,
   "id": "dbcc1d66-41ac-4fbe-b213-dd3df687098b",
   "metadata": {},
   "outputs": [],
   "source": [
    "import re\n",
    "from collections import defaultdict\n",
    "from dataclasses import dataclass\n",
    "from datetime import datetime, timedelta\n",
    "import gzip"
   ]
  },
  {
   "cell_type": "code",
   "execution_count": 209,
   "id": "539d02d6-4b0f-4fc5-9d92-d512d1e17ddc",
   "metadata": {},
   "outputs": [],
   "source": [
    "entry_pattern = re.compile(\n",
    "    r\"\\[(?P<asctime>.+?)\\]\\s+\\[(?P<name>.{16})\\]\\s+\\[(?P<levelname>.{9})\\]\\s+(?P<message>.+?)\",\n",
    "    flags=re.DOTALL,\n",
    ")\n",
    "\n",
    "@dataclass\n",
    "class EntryData:\n",
    "    time: datetime\n",
    "    logger_name: str\n",
    "    log_level_name: str\n",
    "    message: str"
   ]
  },
  {
   "cell_type": "code",
   "execution_count": 174,
   "id": "f0e02d28-93ad-413d-9589-c07676303881",
   "metadata": {},
   "outputs": [],
   "source": [
    "@dataclass\n",
    "class Interval:\n",
    "    start: datetime | None = None\n",
    "    end: datetime | None = None\n",
    "    \n",
    "    @property\n",
    "    def duration(self) -> timedelta:\n",
    "        return self.end - self.start\n",
    "    \n",
    "    def update(self, other: Interval):\n",
    "        if self.start is None or self.start > other.start:\n",
    "            self.start = other.start\n",
    "\n",
    "        if self.end is None or self.end < other.end:\n",
    "            self.end = other.end\n",
    "        \n",
    "        return self"
   ]
  },
  {
   "cell_type": "code",
   "execution_count": 210,
   "id": "998a436b-2416-42fa-a100-3e1c73a0d7e4",
   "metadata": {},
   "outputs": [],
   "source": [
    "def parse_log_file(file_path: str):\n",
    "    with gzip.open(file_path) as file_handle:\n",
    "        lines = file_handle.readlines()\n",
    "        \n",
    "    entries = list()\n",
    "\n",
    "    for line in lines:\n",
    "        line = line.decode()\n",
    "        \n",
    "        if line.startswith(\"[\"):\n",
    "            entries.append(line)\n",
    "        elif line.startswith(\"│\") or line.startswith(\"└\"):\n",
    "            entries[-1] += line\n",
    "        else:\n",
    "            raise ValueError()\n",
    "            \n",
    "    entry_data = list()\n",
    "\n",
    "    for entry in entries:\n",
    "        m = entry_pattern.fullmatch(entry).groupdict()\n",
    "\n",
    "        assert m is not None\n",
    "\n",
    "        time = datetime.strptime(m[\"asctime\"] + \"00\", \"%Y-%m-%d %H:%M:%S,%f\")\n",
    "\n",
    "        logger_name = m[\"name\"].strip()\n",
    "        log_level_name = m[\"levelname\"].strip()\n",
    "\n",
    "        message_lines = m[\"message\"].splitlines()\n",
    "        message = message_lines[0] + \"\".join([line[1:] for line in message_lines[1:]])    \n",
    "\n",
    "        entry_data.append(EntryData(\n",
    "            time=time,\n",
    "            logger_name=logger_name,\n",
    "            log_level_name=log_level_name,\n",
    "            message=message,\n",
    "        ))\n",
    "        \n",
    "    return entry_data"
   ]
  },
  {
   "cell_type": "code",
   "execution_count": 211,
   "id": "b65a07cd-a503-4bad-9d9b-ae54fbd0da3e",
   "metadata": {},
   "outputs": [
    {
     "name": "stdout",
     "output_type": "stream",
     "text": [
      "log.0.txt.gz 1:39:39.995800\n",
      "log.1.txt.gz 1:36:11.078000\n",
      "log.2.txt.gz 1:33:45.012900\n",
      "log.3in1.txt.gz 1:43:29.991900\n"
     ]
    }
   ],
   "source": [
    "log_paths = [f\"log.{i}.txt.gz\" for i in [*range(3), \"3in1\"]]\n",
    "\n",
    "durations = []\n",
    "\n",
    "for log_path in log_paths:\n",
    "    log = parse_log_file(log_path)\n",
    "    \n",
    "    duration = Interval(start=log[0].time, end=log[-1].time).duration\n",
    "    durations.append(duration)\n",
    "    \n",
    "    print(log_path, duration)"
   ]
  },
  {
   "cell_type": "code",
   "execution_count": 212,
   "id": "45ff4367-7254-40f5-b2e1-c5c5373c8e9b",
   "metadata": {},
   "outputs": [
    {
     "name": "stdout",
     "output_type": "stream",
     "text": [
      "4:49:36.086700\n"
     ]
    }
   ],
   "source": [
    "print(sum(durations[:3], timedelta()))"
   ]
  }
 ],
 "metadata": {
  "kernelspec": {
   "display_name": "Python 3 (ipykernel)",
   "language": "python",
   "name": "python3"
  },
  "language_info": {
   "codemirror_mode": {
    "name": "ipython",
    "version": 3
   },
   "file_extension": ".py",
   "mimetype": "text/x-python",
   "name": "python",
   "nbconvert_exporter": "python",
   "pygments_lexer": "ipython3",
   "version": "3.10.1"
  }
 },
 "nbformat": 4,
 "nbformat_minor": 5
}
